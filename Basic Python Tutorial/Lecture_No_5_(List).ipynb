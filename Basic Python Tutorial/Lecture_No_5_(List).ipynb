{
  "cells": [
    {
      "cell_type": "raw",
      "metadata": {
        "id": "3UiD9yJBLGKT"
      },
      "source": [
        "# **List**\n",
        "1) method\n",
        "\n",
        "2) indexing\n",
        "\n",
        "3) slicing\n",
        "\n",
        "4) list comprehensive"
      ]
    },
    {
      "cell_type": "code",
      "execution_count": 2,
      "metadata": {
        "id": "Xbx6e9qa4ZQl",
        "outputId": "c098f2f9-881e-4612-fb1a-24231e855e3b",
        "colab": {
          "base_uri": "https://localhost:8080/"
        }
      },
      "outputs": [
        {
          "output_type": "execute_result",
          "data": {
            "text/plain": [
              "['tanzeel', 'altaf', 'malik']"
            ]
          },
          "metadata": {},
          "execution_count": 2
        }
      ],
      "source": [
        "names = ['tanzeel','altaf','malik']\n",
        "names"
      ]
    },
    {
      "cell_type": "code",
      "execution_count": 3,
      "metadata": {
        "id": "zlOTtBvK4ZQn",
        "outputId": "aef8e2e2-0cb1-4ba0-d043-832f972f0386",
        "colab": {
          "base_uri": "https://localhost:8080/",
          "height": 35
        }
      },
      "outputs": [
        {
          "output_type": "execute_result",
          "data": {
            "text/plain": [
              "'malik'"
            ],
            "application/vnd.google.colaboratory.intrinsic+json": {
              "type": "string"
            }
          },
          "metadata": {},
          "execution_count": 3
        }
      ],
      "source": [
        "names[2]"
      ]
    },
    {
      "cell_type": "code",
      "execution_count": 4,
      "metadata": {
        "id": "9LTgn9By4ZQo",
        "outputId": "3f45fe8f-490a-4283-8bdc-d3600b1f725c",
        "colab": {
          "base_uri": "https://localhost:8080/"
        }
      },
      "outputs": [
        {
          "output_type": "execute_result",
          "data": {
            "text/plain": [
              "['tanzeel', 'altaf', 'malik']"
            ]
          },
          "metadata": {},
          "execution_count": 4
        }
      ],
      "source": [
        "names"
      ]
    },
    {
      "cell_type": "code",
      "execution_count": 5,
      "metadata": {
        "id": "PiSfpI0S4ZQp",
        "outputId": "b30245c5-48a0-4eff-d7d4-3b4bf67f0eb8",
        "colab": {
          "base_uri": "https://localhost:8080/"
        }
      },
      "outputs": [
        {
          "output_type": "execute_result",
          "data": {
            "text/plain": [
              "['tanzeel', 'altaf', 'Kamran']"
            ]
          },
          "metadata": {},
          "execution_count": 5
        }
      ],
      "source": [
        "names[2] = \"Kamran\"\n",
        "names"
      ]
    },
    {
      "cell_type": "code",
      "execution_count": 7,
      "metadata": {
        "id": "0X9V2SvO4ZQp",
        "outputId": "dd6e3247-0aa0-4b5a-b62e-42711ab28ea9",
        "colab": {
          "base_uri": "https://localhost:8080/"
        }
      },
      "outputs": [
        {
          "name": "stdout",
          "output_type": "stream",
          "text": [
            "names AAltaf\n",
            "names Tanzeel\n",
            "names Abbas\n",
            "names x\n"
          ]
        },
        {
          "output_type": "execute_result",
          "data": {
            "text/plain": [
              "['AAltaf', 'Tanzeel', 'Abbas']"
            ]
          },
          "metadata": {},
          "execution_count": 7
        }
      ],
      "source": [
        "names = []\n",
        "while True:\n",
        "    a = input(\"names \")\n",
        "    if a!= 'x':\n",
        "        names.append(a)\n",
        "    else:\n",
        "        break\n",
        "\n",
        "names"
      ]
    },
    {
      "cell_type": "code",
      "execution_count": 9,
      "metadata": {
        "colab": {
          "base_uri": "https://localhost:8080/"
        },
        "id": "qQuwatrhLGKa",
        "outputId": "9e625514-2467-42b5-81f5-53a616173d20"
      },
      "outputs": [
        {
          "output_type": "execute_result",
          "data": {
            "text/plain": [
              "['Tanzeel', 114, True, 7.0]"
            ]
          },
          "metadata": {},
          "execution_count": 9
        }
      ],
      "source": [
        "l1 = [\"Tanzeel\",114 , True, 7.0] #index start 0\n",
        "l1"
      ]
    },
    {
      "cell_type": "code",
      "execution_count": 10,
      "metadata": {
        "scrolled": true,
        "colab": {
          "base_uri": "https://localhost:8080/"
        },
        "id": "lLjIz1qILGKd",
        "outputId": "a13781e0-769c-4548-bfcf-2798235b023e"
      },
      "outputs": [
        {
          "output_type": "execute_result",
          "data": {
            "text/plain": [
              "['__add__',\n",
              " '__class__',\n",
              " '__class_getitem__',\n",
              " '__contains__',\n",
              " '__delattr__',\n",
              " '__delitem__',\n",
              " '__dir__',\n",
              " '__doc__',\n",
              " '__eq__',\n",
              " '__format__',\n",
              " '__ge__',\n",
              " '__getattribute__',\n",
              " '__getitem__',\n",
              " '__gt__',\n",
              " '__hash__',\n",
              " '__iadd__',\n",
              " '__imul__',\n",
              " '__init__',\n",
              " '__init_subclass__',\n",
              " '__iter__',\n",
              " '__le__',\n",
              " '__len__',\n",
              " '__lt__',\n",
              " '__mul__',\n",
              " '__ne__',\n",
              " '__new__',\n",
              " '__reduce__',\n",
              " '__reduce_ex__',\n",
              " '__repr__',\n",
              " '__reversed__',\n",
              " '__rmul__',\n",
              " '__setattr__',\n",
              " '__setitem__',\n",
              " '__sizeof__',\n",
              " '__str__',\n",
              " '__subclasshook__',\n",
              " 'append',\n",
              " 'clear',\n",
              " 'copy',\n",
              " 'count',\n",
              " 'extend',\n",
              " 'index',\n",
              " 'insert',\n",
              " 'pop',\n",
              " 'remove',\n",
              " 'reverse',\n",
              " 'sort']"
            ]
          },
          "metadata": {},
          "execution_count": 10
        }
      ],
      "source": [
        "dir(l1)"
      ]
    },
    {
      "cell_type": "code",
      "execution_count": 11,
      "metadata": {
        "colab": {
          "base_uri": "https://localhost:8080/"
        },
        "id": "Oz1jiBaALGKe",
        "outputId": "21f08764-12e4-4112-c243-7d4e4bfdcf3d"
      },
      "outputs": [
        {
          "output_type": "execute_result",
          "data": {
            "text/plain": [
              "list"
            ]
          },
          "metadata": {},
          "execution_count": 11
        }
      ],
      "source": [
        "l1.__class__"
      ]
    },
    {
      "cell_type": "markdown",
      "metadata": {
        "id": "V3wVzw3wLGKf"
      },
      "source": [
        "## list Indexing"
      ]
    },
    {
      "cell_type": "code",
      "execution_count": 12,
      "metadata": {
        "colab": {
          "base_uri": "https://localhost:8080/"
        },
        "id": "R3uU39_DLGKf",
        "outputId": "4e31b35b-c354-44ee-b678-c94e6e2defc6"
      },
      "outputs": [
        {
          "output_type": "execute_result",
          "data": {
            "text/plain": [
              "['Tanzeel', 114, True, 7.0]"
            ]
          },
          "metadata": {},
          "execution_count": 12
        }
      ],
      "source": [
        "l1"
      ]
    },
    {
      "cell_type": "code",
      "execution_count": 13,
      "metadata": {
        "colab": {
          "base_uri": "https://localhost:8080/"
        },
        "id": "Zc_58aIqLGKf",
        "outputId": "50059ca0-69f1-410c-eba7-0b42382c3d0d"
      },
      "outputs": [
        {
          "output_type": "execute_result",
          "data": {
            "text/plain": [
              "True"
            ]
          },
          "metadata": {},
          "execution_count": 13
        }
      ],
      "source": [
        "l1[2] #positive indexing starting with 0 (left ot right)"
      ]
    },
    {
      "cell_type": "code",
      "execution_count": 14,
      "metadata": {
        "colab": {
          "base_uri": "https://localhost:8080/"
        },
        "id": "Ylhx_RCQLGKg",
        "outputId": "9dfe5908-67ab-4e67-dd97-7d36f47ae6c0"
      },
      "outputs": [
        {
          "output_type": "execute_result",
          "data": {
            "text/plain": [
              "114"
            ]
          },
          "metadata": {},
          "execution_count": 14
        }
      ],
      "source": [
        "l1[-3] #Negative indexing starting with -1 (right to left)"
      ]
    },
    {
      "cell_type": "code",
      "execution_count": 15,
      "metadata": {
        "colab": {
          "base_uri": "https://localhost:8080/"
        },
        "id": "xbkcG_Y6LGKg",
        "outputId": "722b2a96-3675-4354-ef07-1d0a46b23069"
      },
      "outputs": [
        {
          "output_type": "execute_result",
          "data": {
            "text/plain": [
              "4"
            ]
          },
          "metadata": {},
          "execution_count": 15
        }
      ],
      "source": [
        "len(l1) #count number of elements"
      ]
    },
    {
      "cell_type": "code",
      "execution_count": 16,
      "metadata": {
        "colab": {
          "base_uri": "https://localhost:8080/"
        },
        "id": "LhuuBugMLGKh",
        "outputId": "4a1ff947-6a81-45c1-8208-966c9daa2d6d"
      },
      "outputs": [
        {
          "output_type": "execute_result",
          "data": {
            "text/plain": [
              "['Tanzeel', 114, True, 7.0]"
            ]
          },
          "metadata": {},
          "execution_count": 16
        }
      ],
      "source": [
        "l1"
      ]
    },
    {
      "cell_type": "code",
      "execution_count": 17,
      "metadata": {
        "colab": {
          "base_uri": "https://localhost:8080/"
        },
        "id": "z5rxAc9bLGKi",
        "outputId": "f1e8d4d7-c4e1-4fe7-d124-622e80eb56a4"
      },
      "outputs": [
        {
          "output_type": "execute_result",
          "data": {
            "text/plain": [
              "['Tanzeel', 100, True, 7.0]"
            ]
          },
          "metadata": {},
          "execution_count": 17
        }
      ],
      "source": [
        "l1[1] = 100\n",
        "l1"
      ]
    },
    {
      "cell_type": "code",
      "execution_count": 18,
      "metadata": {
        "scrolled": true,
        "colab": {
          "base_uri": "https://localhost:8080/"
        },
        "id": "AdLd-4mNLGKi",
        "outputId": "23c7c4be-3648-4280-84fd-e120b03e35cf"
      },
      "outputs": [
        {
          "output_type": "execute_result",
          "data": {
            "text/plain": [
              "['Tanzeel', 100, True, 1000]"
            ]
          },
          "metadata": {},
          "execution_count": 18
        }
      ],
      "source": [
        "l1[-1] = 1000\n",
        "l1"
      ]
    },
    {
      "cell_type": "code",
      "execution_count": 19,
      "metadata": {
        "colab": {
          "base_uri": "https://localhost:8080/",
          "height": 165
        },
        "id": "vh9rs0lMLGKj",
        "outputId": "0c6221d9-03a7-4195-c370-3d550a1ce737"
      },
      "outputs": [
        {
          "output_type": "error",
          "ename": "IndexError",
          "evalue": "ignored",
          "traceback": [
            "\u001b[0;31m---------------------------------------------------------------------------\u001b[0m",
            "\u001b[0;31mIndexError\u001b[0m                                Traceback (most recent call last)",
            "\u001b[0;32m<ipython-input-19-7ffdcb2c9f2e>\u001b[0m in \u001b[0;36m<cell line: 1>\u001b[0;34m()\u001b[0m\n\u001b[0;32m----> 1\u001b[0;31m \u001b[0ml1\u001b[0m\u001b[0;34m[\u001b[0m\u001b[0;36m4\u001b[0m\u001b[0;34m]\u001b[0m\u001b[0;34m\u001b[0m\u001b[0;34m\u001b[0m\u001b[0m\n\u001b[0m",
            "\u001b[0;31mIndexError\u001b[0m: list index out of range"
          ]
        }
      ],
      "source": [
        "l1[4]"
      ]
    },
    {
      "cell_type": "code",
      "execution_count": 20,
      "metadata": {
        "colab": {
          "base_uri": "https://localhost:8080/"
        },
        "id": "gXX0QYRXLGKk",
        "outputId": "7982d707-054f-4ff6-98f2-ae12ae460937"
      },
      "outputs": [
        {
          "output_type": "stream",
          "name": "stdout",
          "text": [
            "Tanzeel\n",
            "100\n",
            "True\n",
            "1000\n"
          ]
        }
      ],
      "source": [
        "i = 0 # startin index\n",
        "while i < len(l1): # Check logic with index range\n",
        "    print(l1[i])\n",
        "    i += 1 # increament / Decreament\n"
      ]
    },
    {
      "cell_type": "code",
      "execution_count": 21,
      "metadata": {
        "scrolled": true,
        "colab": {
          "base_uri": "https://localhost:8080/"
        },
        "id": "cwwL3NzeLGKk",
        "outputId": "c231be8d-a2b5-4fa2-b0fc-af2165457e6e"
      },
      "outputs": [
        {
          "output_type": "stream",
          "name": "stdout",
          "text": [
            "1000\n",
            "True\n",
            "100\n",
            "Tanzeel\n"
          ]
        }
      ],
      "source": [
        "i = len(l1)-1 # startin index\n",
        "while i >= 0: # Check logic with index range\n",
        "    print(l1[i])\n",
        "    i -= 1 # increament / Decreament"
      ]
    },
    {
      "cell_type": "code",
      "execution_count": 22,
      "metadata": {
        "colab": {
          "base_uri": "https://localhost:8080/"
        },
        "id": "-2a62mDdLGKl",
        "outputId": "0bc971f0-c16d-41d5-80b5-a625395fde04"
      },
      "outputs": [
        {
          "output_type": "execute_result",
          "data": {
            "text/plain": [
              "['Tanzeel', 100, True, 1000]"
            ]
          },
          "metadata": {},
          "execution_count": 22
        }
      ],
      "source": [
        "l1"
      ]
    },
    {
      "cell_type": "code",
      "execution_count": 23,
      "metadata": {
        "colab": {
          "base_uri": "https://localhost:8080/"
        },
        "id": "KbBbdoIkLGKl",
        "outputId": "cdc83901-77c8-42b3-fa44-a5b4e0d33d49"
      },
      "outputs": [
        {
          "output_type": "stream",
          "name": "stdout",
          "text": [
            "Tanzeel\n",
            "100\n",
            "True\n",
            "1000\n"
          ]
        }
      ],
      "source": [
        "for e in l1:\n",
        "    print(e)"
      ]
    },
    {
      "cell_type": "code",
      "execution_count": 24,
      "metadata": {
        "colab": {
          "base_uri": "https://localhost:8080/"
        },
        "id": "RBvfNHTyLGKm",
        "outputId": "86ec9648-69dd-4a1c-f03c-fa28b382aefc"
      },
      "outputs": [
        {
          "output_type": "execute_result",
          "data": {
            "text/plain": [
              "[1, 7, 9, 8, 20, 13, 15]"
            ]
          },
          "metadata": {},
          "execution_count": 24
        }
      ],
      "source": [
        "l2 = [1,7,9,8,20,13,15]\n",
        "l2"
      ]
    },
    {
      "cell_type": "code",
      "execution_count": 25,
      "metadata": {
        "colab": {
          "base_uri": "https://localhost:8080/"
        },
        "id": "98hT_z3ULGKm",
        "outputId": "298a4559-fe0d-4af7-b669-1d5feb389f97"
      },
      "outputs": [
        {
          "output_type": "execute_result",
          "data": {
            "text/plain": [
              "[1, 7, 8, 9, 13, 15, 20]"
            ]
          },
          "metadata": {},
          "execution_count": 25
        }
      ],
      "source": [
        "sorted(l2)"
      ]
    },
    {
      "cell_type": "code",
      "execution_count": 26,
      "metadata": {
        "colab": {
          "base_uri": "https://localhost:8080/"
        },
        "id": "AB9omlCOLGKn",
        "outputId": "fbf5ec83-d9b5-4356-8e98-f819c9985968"
      },
      "outputs": [
        {
          "output_type": "execute_result",
          "data": {
            "text/plain": [
              "[20, 15, 13, 9, 8, 7, 1]"
            ]
          },
          "metadata": {},
          "execution_count": 26
        }
      ],
      "source": [
        "sorted(l2,reverse=True) # Descending order"
      ]
    },
    {
      "cell_type": "code",
      "execution_count": 27,
      "metadata": {
        "colab": {
          "base_uri": "https://localhost:8080/"
        },
        "id": "4sFH-3R9LGKn",
        "outputId": "855b454e-4ddc-4ab2-bff9-c7d77e37d26e"
      },
      "outputs": [
        {
          "output_type": "execute_result",
          "data": {
            "text/plain": [
              "[1, 7, 9, 8, 20, 13, 15]"
            ]
          },
          "metadata": {},
          "execution_count": 27
        }
      ],
      "source": [
        "l2"
      ]
    },
    {
      "cell_type": "code",
      "execution_count": 28,
      "metadata": {
        "id": "FaL8I_qaLGKp"
      },
      "outputs": [],
      "source": [
        "l2.sort()"
      ]
    },
    {
      "cell_type": "code",
      "execution_count": 29,
      "metadata": {
        "colab": {
          "base_uri": "https://localhost:8080/"
        },
        "id": "mdU6LNu_LGKq",
        "outputId": "cf6992bb-eb51-4f8f-9edf-153163c07b65"
      },
      "outputs": [
        {
          "output_type": "execute_result",
          "data": {
            "text/plain": [
              "[1, 7, 8, 9, 13, 15, 20]"
            ]
          },
          "metadata": {},
          "execution_count": 29
        }
      ],
      "source": [
        "l2"
      ]
    },
    {
      "cell_type": "code",
      "execution_count": 30,
      "metadata": {
        "colab": {
          "base_uri": "https://localhost:8080/"
        },
        "id": "RH0s9wnmLGKr",
        "outputId": "9235423d-8d02-4b6f-d740-8edd839e444d"
      },
      "outputs": [
        {
          "output_type": "execute_result",
          "data": {
            "text/plain": [
              "[20, 15, 13, 9, 8, 7, 1]"
            ]
          },
          "metadata": {},
          "execution_count": 30
        }
      ],
      "source": [
        "l2.sort(reverse=True)\n",
        "l2"
      ]
    },
    {
      "cell_type": "raw",
      "metadata": {
        "id": "ZGqFZQKsLGKs"
      },
      "source": [
        "range(start, end, step) \n",
        "\n",
        "#Generator function\n",
        "\n",
        "start = include\n",
        "\n",
        "end = exclude\n",
        "\n",
        "step = sequance"
      ]
    },
    {
      "cell_type": "code",
      "execution_count": 31,
      "metadata": {
        "colab": {
          "base_uri": "https://localhost:8080/"
        },
        "id": "-Cak1EucLGKs",
        "outputId": "68bac836-0ff3-47a7-bf39-043f04cc1ae1"
      },
      "outputs": [
        {
          "output_type": "execute_result",
          "data": {
            "text/plain": [
              "range(0, 11)"
            ]
          },
          "metadata": {},
          "execution_count": 31
        }
      ],
      "source": [
        "range(11)"
      ]
    },
    {
      "cell_type": "code",
      "execution_count": 32,
      "metadata": {
        "colab": {
          "base_uri": "https://localhost:8080/"
        },
        "id": "RCoK0Bd3LGKs",
        "outputId": "2d8e56b1-c2eb-4a4f-f1be-d02a98e09349"
      },
      "outputs": [
        {
          "output_type": "execute_result",
          "data": {
            "text/plain": [
              "range(1, 11)"
            ]
          },
          "metadata": {},
          "execution_count": 32
        }
      ],
      "source": [
        "range(1,11)"
      ]
    },
    {
      "cell_type": "code",
      "execution_count": 33,
      "metadata": {
        "colab": {
          "base_uri": "https://localhost:8080/"
        },
        "id": "T2viCEQWLGKt",
        "outputId": "b16959c4-373e-4029-ca25-80fe95c27424"
      },
      "outputs": [
        {
          "output_type": "execute_result",
          "data": {
            "text/plain": [
              "[1, 2, 3, 4, 5, 6, 7, 8, 9, 10]"
            ]
          },
          "metadata": {},
          "execution_count": 33
        }
      ],
      "source": [
        "list(range(1,11))"
      ]
    },
    {
      "cell_type": "code",
      "execution_count": 34,
      "metadata": {
        "colab": {
          "base_uri": "https://localhost:8080/"
        },
        "id": "Vew4tAACLGKt",
        "outputId": "c88257b7-a263-4d86-a3f1-57b924efb21e"
      },
      "outputs": [
        {
          "output_type": "stream",
          "name": "stdout",
          "text": [
            "1\n",
            "2\n",
            "3\n",
            "4\n",
            "5\n",
            "6\n",
            "7\n",
            "8\n",
            "9\n",
            "10\n"
          ]
        }
      ],
      "source": [
        "for i in range(1,11):\n",
        "    print(i)"
      ]
    },
    {
      "cell_type": "code",
      "execution_count": 35,
      "metadata": {
        "colab": {
          "base_uri": "https://localhost:8080/"
        },
        "id": "RIoJ6-Z8LGKt",
        "outputId": "0106429d-e48d-4920-c56f-3c713cad191f"
      },
      "outputs": [
        {
          "output_type": "execute_result",
          "data": {
            "text/plain": [
              "[0, 10, 20, 30, 40, 50, 60, 70, 80, 90, 100]"
            ]
          },
          "metadata": {},
          "execution_count": 35
        }
      ],
      "source": [
        "list(range(0,101,10))"
      ]
    },
    {
      "cell_type": "code",
      "execution_count": 36,
      "metadata": {
        "colab": {
          "base_uri": "https://localhost:8080/"
        },
        "id": "oJ5q7K9pLGKu",
        "outputId": "b65c7082-fb60-4d49-afba-ec8a7e461f34"
      },
      "outputs": [
        {
          "output_type": "execute_result",
          "data": {
            "text/plain": [
              "[5, 10, 15, 20, 25, 30, 35, 40, 45, 50]"
            ]
          },
          "metadata": {},
          "execution_count": 36
        }
      ],
      "source": [
        "list(range(5,51,5))"
      ]
    },
    {
      "cell_type": "code",
      "execution_count": 37,
      "metadata": {
        "colab": {
          "base_uri": "https://localhost:8080/",
          "height": 35
        },
        "id": "EKxCgUjwLGKu",
        "outputId": "22812612-9bc3-4a6b-fbb7-5d8fdb656319"
      },
      "outputs": [
        {
          "output_type": "execute_result",
          "data": {
            "text/plain": [
              "'A'"
            ],
            "application/vnd.google.colaboratory.intrinsic+json": {
              "type": "string"
            }
          },
          "metadata": {},
          "execution_count": 37
        }
      ],
      "source": [
        "chr(65)"
      ]
    },
    {
      "cell_type": "code",
      "execution_count": 38,
      "metadata": {
        "colab": {
          "base_uri": "https://localhost:8080/"
        },
        "id": "uF9-U8U-LGKu",
        "outputId": "3fdb1dbb-2177-4c93-bf9f-e7335882c84c"
      },
      "outputs": [
        {
          "output_type": "execute_result",
          "data": {
            "text/plain": [
              "97"
            ]
          },
          "metadata": {},
          "execution_count": 38
        }
      ],
      "source": [
        "ord('a')"
      ]
    },
    {
      "cell_type": "code",
      "execution_count": 39,
      "metadata": {
        "colab": {
          "base_uri": "https://localhost:8080/"
        },
        "id": "rZ3aPmWTLGKv",
        "outputId": "c5376d00-ae80-46a7-892e-232590bf892d"
      },
      "outputs": [
        {
          "output_type": "execute_result",
          "data": {
            "text/plain": [
              "[65,\n",
              " 66,\n",
              " 67,\n",
              " 68,\n",
              " 69,\n",
              " 70,\n",
              " 71,\n",
              " 72,\n",
              " 73,\n",
              " 74,\n",
              " 75,\n",
              " 76,\n",
              " 77,\n",
              " 78,\n",
              " 79,\n",
              " 80,\n",
              " 81,\n",
              " 82,\n",
              " 83,\n",
              " 84,\n",
              " 85,\n",
              " 86,\n",
              " 87,\n",
              " 88,\n",
              " 89,\n",
              " 90]"
            ]
          },
          "metadata": {},
          "execution_count": 39
        }
      ],
      "source": [
        "l1 = list(range(65,91))\n",
        "l1"
      ]
    },
    {
      "cell_type": "code",
      "execution_count": 40,
      "metadata": {
        "colab": {
          "base_uri": "https://localhost:8080/"
        },
        "id": "LKGfAfvVLGKv",
        "outputId": "d78ee225-7006-47e5-8c5d-d2d4f02fa04c"
      },
      "outputs": [
        {
          "output_type": "stream",
          "name": "stdout",
          "text": [
            "A\n",
            "B\n",
            "C\n",
            "D\n",
            "E\n",
            "F\n",
            "G\n",
            "H\n",
            "I\n",
            "J\n",
            "K\n",
            "L\n",
            "M\n",
            "N\n",
            "O\n",
            "P\n",
            "Q\n",
            "R\n",
            "S\n",
            "T\n",
            "U\n",
            "V\n",
            "W\n",
            "X\n",
            "Y\n",
            "Z\n"
          ]
        }
      ],
      "source": [
        "for e in l1:\n",
        "    print(chr(e))"
      ]
    },
    {
      "cell_type": "code",
      "execution_count": 41,
      "metadata": {
        "colab": {
          "base_uri": "https://localhost:8080/"
        },
        "id": "VLL1LjXCLGKw",
        "outputId": "1d394f5a-46b8-48ca-f4b8-8a4fdb09a9ab"
      },
      "outputs": [
        {
          "output_type": "execute_result",
          "data": {
            "text/plain": [
              "['A',\n",
              " 'B',\n",
              " 'C',\n",
              " 'D',\n",
              " 'E',\n",
              " 'F',\n",
              " 'G',\n",
              " 'H',\n",
              " 'I',\n",
              " 'J',\n",
              " 'K',\n",
              " 'L',\n",
              " 'M',\n",
              " 'N',\n",
              " 'O',\n",
              " 'P',\n",
              " 'Q',\n",
              " 'R',\n",
              " 'S',\n",
              " 'T',\n",
              " 'U',\n",
              " 'V',\n",
              " 'W',\n",
              " 'X',\n",
              " 'Y',\n",
              " 'Z']"
            ]
          },
          "metadata": {},
          "execution_count": 41
        }
      ],
      "source": [
        "list(map(chr, l1))"
      ]
    },
    {
      "cell_type": "code",
      "execution_count": 42,
      "metadata": {
        "colab": {
          "base_uri": "https://localhost:8080/"
        },
        "id": "1x0xGBfRLGKx",
        "outputId": "d92fa016-d7e7-4cda-d94d-3c46daeb9cc8"
      },
      "outputs": [
        {
          "output_type": "execute_result",
          "data": {
            "text/plain": [
              "[5, 4, 6]"
            ]
          },
          "metadata": {},
          "execution_count": 42
        }
      ],
      "source": [
        "l1 = ['qasim','asif', 'haseeb']\n",
        "list(map(len, l1))"
      ]
    },
    {
      "cell_type": "raw",
      "metadata": {
        "id": "ClJtHel-LGKx"
      },
      "source": [
        "map(function_name, list)"
      ]
    },
    {
      "cell_type": "code",
      "execution_count": 43,
      "metadata": {
        "colab": {
          "base_uri": "https://localhost:8080/",
          "height": 35
        },
        "id": "AaxgtHMrLGKx",
        "outputId": "e456d565-4122-498d-9b42-00be51febda2"
      },
      "outputs": [
        {
          "output_type": "execute_result",
          "data": {
            "text/plain": [
              "'0'"
            ],
            "application/vnd.google.colaboratory.intrinsic+json": {
              "type": "string"
            }
          },
          "metadata": {},
          "execution_count": 43
        }
      ],
      "source": [
        "chr(48)"
      ]
    },
    {
      "cell_type": "raw",
      "metadata": {
        "id": "8yWzu1EQLGKy"
      },
      "source": [
        "# 0 - 9 (48 to 57)\n",
        "\n",
        "# A - Z (65 to 90)\n",
        "\n",
        "# a - z (97 to 122)"
      ]
    },
    {
      "cell_type": "code",
      "execution_count": 44,
      "metadata": {
        "colab": {
          "base_uri": "https://localhost:8080/"
        },
        "id": "fjuQxf2ILGKy",
        "outputId": "fd80012d-e0b8-47ed-9f2f-5aea821ba479"
      },
      "outputs": [
        {
          "output_type": "execute_result",
          "data": {
            "text/plain": [
              "[97,\n",
              " 98,\n",
              " 99,\n",
              " 100,\n",
              " 101,\n",
              " 102,\n",
              " 103,\n",
              " 104,\n",
              " 105,\n",
              " 106,\n",
              " 107,\n",
              " 108,\n",
              " 109,\n",
              " 110,\n",
              " 111,\n",
              " 112,\n",
              " 113,\n",
              " 114,\n",
              " 115,\n",
              " 116,\n",
              " 117,\n",
              " 118,\n",
              " 119,\n",
              " 120,\n",
              " 121,\n",
              " 122]"
            ]
          },
          "metadata": {},
          "execution_count": 44
        }
      ],
      "source": [
        "l1 = list(range(97,123))\n",
        "l1"
      ]
    },
    {
      "cell_type": "code",
      "execution_count": 45,
      "metadata": {
        "colab": {
          "base_uri": "https://localhost:8080/"
        },
        "id": "izQyK-bfLGKy",
        "outputId": "3079a268-64ef-4a29-957e-2f0449666f18"
      },
      "outputs": [
        {
          "output_type": "execute_result",
          "data": {
            "text/plain": [
              "['a',\n",
              " 'b',\n",
              " 'c',\n",
              " 'd',\n",
              " 'e',\n",
              " 'f',\n",
              " 'g',\n",
              " 'h',\n",
              " 'i',\n",
              " 'j',\n",
              " 'k',\n",
              " 'l',\n",
              " 'm',\n",
              " 'n',\n",
              " 'o',\n",
              " 'p',\n",
              " 'q',\n",
              " 'r',\n",
              " 's',\n",
              " 't',\n",
              " 'u',\n",
              " 'v',\n",
              " 'w',\n",
              " 'x',\n",
              " 'y',\n",
              " 'z']"
            ]
          },
          "metadata": {},
          "execution_count": 45
        }
      ],
      "source": [
        "l2 = list(map(chr, l1))\n",
        "l2"
      ]
    },
    {
      "cell_type": "code",
      "execution_count": 46,
      "metadata": {
        "colab": {
          "base_uri": "https://localhost:8080/"
        },
        "id": "Miq5NU0-LGKz",
        "outputId": "48516df7-0ef5-4d28-f94b-df2d021e657d"
      },
      "outputs": [
        {
          "output_type": "execute_result",
          "data": {
            "text/plain": [
              "['0', '1', '2', '3', '4', '5', '6', '7', '8', '9']"
            ]
          },
          "metadata": {},
          "execution_count": 46
        }
      ],
      "source": [
        "l3 = list(range(48,58))\n",
        "l3\n",
        "\n",
        "list(map(chr, l3))"
      ]
    },
    {
      "cell_type": "raw",
      "metadata": {
        "id": "ILGXBnfRLGKz"
      },
      "source": [
        "# Slicing\n",
        "# obj[start : end : step]\n",
        "# start include\n",
        "# end exclude\n",
        "# Step = sequance"
      ]
    },
    {
      "cell_type": "code",
      "execution_count": 47,
      "metadata": {
        "colab": {
          "base_uri": "https://localhost:8080/"
        },
        "id": "P1ZIaMi_LGK0",
        "outputId": "477b5dcb-83ea-4fbf-9fef-f3fc80214198"
      },
      "outputs": [
        {
          "output_type": "execute_result",
          "data": {
            "text/plain": [
              "[1, 2, 3, 4, 5, 6, 7, 8, 9, 10]"
            ]
          },
          "metadata": {},
          "execution_count": 47
        }
      ],
      "source": [
        "l1 = list(range(1,11))\n",
        "l1"
      ]
    },
    {
      "cell_type": "code",
      "execution_count": 48,
      "metadata": {
        "colab": {
          "base_uri": "https://localhost:8080/"
        },
        "id": "mR5fncyzLGK0",
        "outputId": "3ddece55-4b20-4d1c-a402-e8af042ae276"
      },
      "outputs": [
        {
          "output_type": "execute_result",
          "data": {
            "text/plain": [
              "[1, 2, 3, 4, 5]"
            ]
          },
          "metadata": {},
          "execution_count": 48
        }
      ],
      "source": [
        "# extract top five elements\n",
        "l1[0:5] # left to right if step +\n",
        "# right to left if step -"
      ]
    },
    {
      "cell_type": "code",
      "execution_count": 49,
      "metadata": {
        "colab": {
          "base_uri": "https://localhost:8080/"
        },
        "id": "5pB6kFW2LGK1",
        "outputId": "2d8ab1b9-3027-4e70-e384-1c018cc27779"
      },
      "outputs": [
        {
          "output_type": "stream",
          "name": "stdout",
          "text": [
            "A B C D E F G H I J K L M N O P Q R S T U V W X Y Z\n"
          ]
        }
      ],
      "source": [
        "l1 = list(map(chr, list(range(65,91))))\n",
        "\n",
        "print(*l1, sep=\" \")"
      ]
    },
    {
      "cell_type": "code",
      "execution_count": 50,
      "metadata": {
        "colab": {
          "base_uri": "https://localhost:8080/"
        },
        "id": "isb03GPcLGK2",
        "outputId": "4ebe36a6-85be-4ac1-d865-f485d8e49c49"
      },
      "outputs": [
        {
          "output_type": "execute_result",
          "data": {
            "text/plain": [
              "['A', 'B', 'C', 'D', 'E', 'F', 'G', 'H', 'I']"
            ]
          },
          "metadata": {},
          "execution_count": 50
        }
      ],
      "source": [
        "l1[0: 9]"
      ]
    },
    {
      "cell_type": "code",
      "execution_count": 51,
      "metadata": {
        "colab": {
          "base_uri": "https://localhost:8080/"
        },
        "id": "xUOF0TJFLGK3",
        "outputId": "fa227184-22cf-4c4f-c2e7-781ce37210b7"
      },
      "outputs": [
        {
          "output_type": "execute_result",
          "data": {
            "text/plain": [
              "['A',\n",
              " 'B',\n",
              " 'C',\n",
              " 'D',\n",
              " 'E',\n",
              " 'F',\n",
              " 'G',\n",
              " 'H',\n",
              " 'I',\n",
              " 'J',\n",
              " 'K',\n",
              " 'L',\n",
              " 'M',\n",
              " 'N',\n",
              " 'O',\n",
              " 'P',\n",
              " 'Q',\n",
              " 'R',\n",
              " 'S',\n",
              " 'T',\n",
              " 'U',\n",
              " 'V',\n",
              " 'W',\n",
              " 'X',\n",
              " 'Y',\n",
              " 'Z']"
            ]
          },
          "metadata": {},
          "execution_count": 51
        }
      ],
      "source": [
        "l1[0:26]"
      ]
    },
    {
      "cell_type": "code",
      "execution_count": 52,
      "metadata": {
        "colab": {
          "base_uri": "https://localhost:8080/"
        },
        "id": "Rhg6d-8nLGK3",
        "outputId": "066bb4dd-656d-4564-92f8-6c89b3291d7e"
      },
      "outputs": [
        {
          "output_type": "execute_result",
          "data": {
            "text/plain": [
              "['A',\n",
              " 'B',\n",
              " 'C',\n",
              " 'D',\n",
              " 'E',\n",
              " 'F',\n",
              " 'G',\n",
              " 'H',\n",
              " 'I',\n",
              " 'J',\n",
              " 'K',\n",
              " 'L',\n",
              " 'M',\n",
              " 'N',\n",
              " 'O',\n",
              " 'P',\n",
              " 'Q',\n",
              " 'R',\n",
              " 'S',\n",
              " 'T',\n",
              " 'U',\n",
              " 'V',\n",
              " 'W',\n",
              " 'X',\n",
              " 'Y',\n",
              " 'Z']"
            ]
          },
          "metadata": {},
          "execution_count": 52
        }
      ],
      "source": [
        "l1[0:]\n",
        "#l1[:]\n",
        "#l1[::]\n",
        "# l1[0::]\n",
        "# l1[-26:]\n",
        "# l1[-26::]"
      ]
    },
    {
      "cell_type": "code",
      "execution_count": 53,
      "metadata": {
        "colab": {
          "base_uri": "https://localhost:8080/"
        },
        "id": "GkPiIBFpLGK4",
        "outputId": "cfb57262-18ed-414f-b6a0-4ccfba14c404"
      },
      "outputs": [
        {
          "output_type": "execute_result",
          "data": {
            "text/plain": [
              "['Z',\n",
              " 'Y',\n",
              " 'X',\n",
              " 'W',\n",
              " 'V',\n",
              " 'U',\n",
              " 'T',\n",
              " 'S',\n",
              " 'R',\n",
              " 'Q',\n",
              " 'P',\n",
              " 'O',\n",
              " 'N',\n",
              " 'M',\n",
              " 'L',\n",
              " 'K',\n",
              " 'J',\n",
              " 'I',\n",
              " 'H',\n",
              " 'G',\n",
              " 'F',\n",
              " 'E',\n",
              " 'D',\n",
              " 'C',\n",
              " 'B',\n",
              " 'A']"
            ]
          },
          "metadata": {},
          "execution_count": 53
        }
      ],
      "source": [
        "l1[::-1]#"
      ]
    },
    {
      "cell_type": "code",
      "execution_count": 54,
      "metadata": {
        "colab": {
          "base_uri": "https://localhost:8080/"
        },
        "id": "SMtleJZ1LGK4",
        "outputId": "e5518a04-4567-4cd9-d56d-ac270ad23b8c"
      },
      "outputs": [
        {
          "output_type": "execute_result",
          "data": {
            "text/plain": [
              "['A', 'C', 'E', 'G', 'I', 'K', 'M', 'O', 'Q', 'S', 'U', 'W', 'Y']"
            ]
          },
          "metadata": {},
          "execution_count": 54
        }
      ],
      "source": [
        "l1[::2]"
      ]
    },
    {
      "cell_type": "code",
      "execution_count": 55,
      "metadata": {
        "colab": {
          "base_uri": "https://localhost:8080/"
        },
        "id": "FaWsjULbLGK4",
        "outputId": "10aa7a1e-2900-4af1-92f2-2324a8d45b89"
      },
      "outputs": [
        {
          "output_type": "execute_result",
          "data": {
            "text/plain": [
              "['F',\n",
              " 'G',\n",
              " 'H',\n",
              " 'I',\n",
              " 'J',\n",
              " 'K',\n",
              " 'L',\n",
              " 'M',\n",
              " 'N',\n",
              " 'O',\n",
              " 'P',\n",
              " 'Q',\n",
              " 'R',\n",
              " 'S',\n",
              " 'T',\n",
              " 'U',\n",
              " 'V',\n",
              " 'W',\n",
              " 'X',\n",
              " 'Y',\n",
              " 'Z']"
            ]
          },
          "metadata": {},
          "execution_count": 55
        }
      ],
      "source": [
        "l1[5:]\n",
        "#l1[5::]\n",
        "#l1[5::1]\n",
        "#l1[-20::-1]"
      ]
    },
    {
      "cell_type": "code",
      "execution_count": 56,
      "metadata": {
        "colab": {
          "base_uri": "https://localhost:8080/"
        },
        "id": "pMGvIgyzLGK5",
        "outputId": "d556b249-3db0-4ed5-8201-fc1d427525b8"
      },
      "outputs": [
        {
          "output_type": "execute_result",
          "data": {
            "text/plain": [
              "['A', 'B', 'X', 'Y', 'Z']"
            ]
          },
          "metadata": {},
          "execution_count": 56
        }
      ],
      "source": [
        "l1[:2] + l1[-3:]"
      ]
    },
    {
      "cell_type": "code",
      "execution_count": 57,
      "metadata": {
        "colab": {
          "base_uri": "https://localhost:8080/"
        },
        "id": "03jE6l26LGK5",
        "outputId": "34e2cdf9-477c-4c1f-bfb9-3544c6934e9d"
      },
      "outputs": [
        {
          "output_type": "execute_result",
          "data": {
            "text/plain": [
              "['A',\n",
              " 'B',\n",
              " 'C',\n",
              " 'D',\n",
              " 'E',\n",
              " 'F',\n",
              " 'G',\n",
              " 'H',\n",
              " 'I',\n",
              " 'J',\n",
              " 'K',\n",
              " 'L',\n",
              " 'M',\n",
              " 'N',\n",
              " 'O',\n",
              " 'P',\n",
              " 'Q',\n",
              " 'R',\n",
              " 'S',\n",
              " 'T',\n",
              " 'U',\n",
              " 'V',\n",
              " 'W',\n",
              " 'X',\n",
              " 'Y',\n",
              " 'Z']"
            ]
          },
          "metadata": {},
          "execution_count": 57
        }
      ],
      "source": [
        "l1"
      ]
    }
  ],
  "metadata": {
    "kernelspec": {
      "display_name": "Python 3",
      "language": "python",
      "name": "python3"
    },
    "language_info": {
      "codemirror_mode": {
        "name": "ipython",
        "version": 3
      },
      "file_extension": ".py",
      "mimetype": "text/x-python",
      "name": "python",
      "nbconvert_exporter": "python",
      "pygments_lexer": "ipython3",
      "version": "3.7.1"
    },
    "colab": {
      "provenance": []
    }
  },
  "nbformat": 4,
  "nbformat_minor": 0
}