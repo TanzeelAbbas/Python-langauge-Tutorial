{
  "nbformat": 4,
  "nbformat_minor": 0,
  "metadata": {
    "colab": {
      "provenance": []
    },
    "kernelspec": {
      "name": "python3",
      "display_name": "Python 3"
    },
    "language_info": {
      "name": "python"
    }
  },
  "cells": [
    {
      "cell_type": "markdown",
      "metadata": {
        "id": "Y7MQtnWmLGK6"
      },
      "source": [
        "# List Comprehensive"
      ]
    },
    {
      "cell_type": "code",
      "source": [
        "l1 = list(map(chr, list(range(65,91))))\n",
        "\n",
        "print(*l1, sep=\" \")"
      ],
      "metadata": {
        "colab": {
          "base_uri": "https://localhost:8080/"
        },
        "id": "lvyI7a_4VSeB",
        "outputId": "e216ccf6-e4df-48be-a6f9-9249efb3e1ce"
      },
      "execution_count": 2,
      "outputs": [
        {
          "output_type": "stream",
          "name": "stdout",
          "text": [
            "A B C D E F G H I J K L M N O P Q R S T U V W X Y Z\n"
          ]
        }
      ]
    },
    {
      "cell_type": "code",
      "execution_count": 3,
      "metadata": {
        "id": "SNVCnt5dLGK6",
        "outputId": "e076f2f7-6931-4455-957e-8bfbde8821e3",
        "colab": {
          "base_uri": "https://localhost:8080/"
        }
      },
      "outputs": [
        {
          "output_type": "stream",
          "name": "stdout",
          "text": [
            "A\n",
            "B\n",
            "C\n",
            "D\n",
            "E\n",
            "F\n",
            "G\n",
            "H\n",
            "I\n",
            "J\n",
            "K\n",
            "L\n",
            "M\n",
            "N\n",
            "O\n",
            "P\n",
            "Q\n",
            "R\n",
            "S\n",
            "T\n",
            "U\n",
            "V\n",
            "W\n",
            "X\n",
            "Y\n",
            "Z\n"
          ]
        }
      ],
      "source": [
        "for e in l1: #e = element, l1 = list\n",
        "    print(e) # statment"
      ]
    },
    {
      "cell_type": "raw",
      "metadata": {
        "id": "FCRoNpaQLGK6"
      },
      "source": [
        "if logic:\n",
        "    \n",
        "    True_value\n",
        "else:\n",
        "\n",
        "    False_value"
      ]
    },
    {
      "cell_type": "code",
      "execution_count": 4,
      "metadata": {
        "id": "2gxjV9M0LGK7"
      },
      "outputs": [],
      "source": [
        "# True_Value if logic else False_value"
      ]
    },
    {
      "cell_type": "code",
      "execution_count": 5,
      "metadata": {
        "id": "7c8cUycmLGK7",
        "outputId": "674a8018-10d9-4fe6-91b5-7f9095b1a557",
        "colab": {
          "base_uri": "https://localhost:8080/",
          "height": 35
        }
      },
      "outputs": [
        {
          "output_type": "execute_result",
          "data": {
            "text/plain": [
              "'Pakistan'"
            ],
            "application/vnd.google.colaboratory.intrinsic+json": {
              "type": "string"
            }
          },
          "metadata": {},
          "execution_count": 5
        }
      ],
      "source": [
        "a = 5\n",
        "\n",
        "'Pakistan' if a==5 else 'India'"
      ]
    },
    {
      "cell_type": "code",
      "execution_count": 6,
      "metadata": {
        "id": "xik56nGdLGK8",
        "outputId": "3994d416-d237-4494-d911-5f3cca3849cf",
        "colab": {
          "base_uri": "https://localhost:8080/"
        }
      },
      "outputs": [
        {
          "output_type": "execute_result",
          "data": {
            "text/plain": [
              "[1, 2, 3, 4, 5, 6, 7, 8, 9, 10]"
            ]
          },
          "metadata": {},
          "execution_count": 6
        }
      ],
      "source": [
        "#[statment for  element in list]\n",
        "[x for x in range(1,11)]"
      ]
    },
    {
      "cell_type": "code",
      "execution_count": 7,
      "metadata": {
        "id": "GPfInYl3LGK8",
        "outputId": "2f94bf8f-b41e-43ab-ebce-e011a3ce2acf",
        "colab": {
          "base_uri": "https://localhost:8080/"
        }
      },
      "outputs": [
        {
          "output_type": "execute_result",
          "data": {
            "text/plain": [
              "[2, 4, 6, 8, 10, 12, 14, 16, 18, 20]"
            ]
          },
          "metadata": {},
          "execution_count": 7
        }
      ],
      "source": [
        "[x*2 for x in range(1,11)]"
      ]
    },
    {
      "cell_type": "code",
      "execution_count": 8,
      "metadata": {
        "id": "ESM_P2z4LGK_",
        "outputId": "de18e418-f359-4bfe-fb9d-5ab14a6edfa1",
        "colab": {
          "base_uri": "https://localhost:8080/"
        }
      },
      "outputs": [
        {
          "output_type": "execute_result",
          "data": {
            "text/plain": [
              "['2 X 1 = 2',\n",
              " '2 X 2 = 4',\n",
              " '2 X 3 = 6',\n",
              " '2 X 4 = 8',\n",
              " '2 X 5 = 10',\n",
              " '2 X 6 = 12',\n",
              " '2 X 7 = 14',\n",
              " '2 X 8 = 16',\n",
              " '2 X 9 = 18',\n",
              " '2 X 10 = 20']"
            ]
          },
          "metadata": {},
          "execution_count": 8
        }
      ],
      "source": [
        "[\"{} X {} = {}\".format(2,x, x*2) for x in range(1,11)]"
      ]
    },
    {
      "cell_type": "code",
      "execution_count": 9,
      "metadata": {
        "id": "0rnWP0q2LGLA",
        "outputId": "7bbacf8e-564c-4ae8-86b8-b2596f68eace",
        "colab": {
          "base_uri": "https://localhost:8080/"
        }
      },
      "outputs": [
        {
          "output_type": "stream",
          "name": "stdout",
          "text": [
            "280\n",
            "560\n",
            "840\n"
          ]
        }
      ],
      "source": [
        "for e in range(1,1001):\n",
        "    if e%5 == 0 and e%7 == 0 and e%40 ==  0:\n",
        "        print(e)"
      ]
    },
    {
      "cell_type": "code",
      "execution_count": 10,
      "metadata": {
        "id": "4laMsGlYLGLB",
        "outputId": "554a862a-4a5c-49c3-8adc-57fa5a4357bf",
        "colab": {
          "base_uri": "https://localhost:8080/"
        }
      },
      "outputs": [
        {
          "output_type": "execute_result",
          "data": {
            "text/plain": [
              "[280, 560, 840]"
            ]
          },
          "metadata": {},
          "execution_count": 10
        }
      ],
      "source": [
        "#[value_True for element in list if logic else value_false]\n",
        "[e for e in range(1,1001) if (e%5 == 0 and e%7==0 and e%40==0) ]"
      ]
    },
    {
      "cell_type": "code",
      "execution_count": 11,
      "metadata": {
        "id": "YFL0BoKLLGLB",
        "outputId": "77a7c748-adca-4fd6-8c60-1f2750e87e25",
        "colab": {
          "base_uri": "https://localhost:8080/"
        }
      },
      "outputs": [
        {
          "output_type": "execute_result",
          "data": {
            "text/plain": [
              "[280, 560, 840]"
            ]
          },
          "metadata": {},
          "execution_count": 11
        }
      ],
      "source": [
        "list((e for e in range(1,1001) if (e%5 == 0 and e%7==0 and e%40==0) ))"
      ]
    },
    {
      "cell_type": "code",
      "execution_count": 12,
      "metadata": {
        "id": "F3jDO7brLGLB",
        "outputId": "85afeae8-2333-4de6-850e-bec6f42cde8f",
        "colab": {
          "base_uri": "https://localhost:8080/"
        }
      },
      "outputs": [
        {
          "output_type": "execute_result",
          "data": {
            "text/plain": [
              "{1, 2, 3, 4, 5, 6, 7, 8, 9, 10}"
            ]
          },
          "metadata": {},
          "execution_count": 12
        }
      ],
      "source": [
        "{x for x in range(1,11)}"
      ]
    },
    {
      "cell_type": "code",
      "execution_count": 13,
      "metadata": {
        "id": "_JO9DHwMLGLC",
        "outputId": "cb85d220-00fc-4a1e-e783-d71708098d44",
        "colab": {
          "base_uri": "https://localhost:8080/"
        }
      },
      "outputs": [
        {
          "output_type": "execute_result",
          "data": {
            "text/plain": [
              "['A',\n",
              " 'B',\n",
              " 'C',\n",
              " 'D',\n",
              " 'E',\n",
              " 'F',\n",
              " 'G',\n",
              " 'H',\n",
              " 'I',\n",
              " 'J',\n",
              " 'K',\n",
              " 'L',\n",
              " 'M',\n",
              " 'N',\n",
              " 'O',\n",
              " 'P',\n",
              " 'Q',\n",
              " 'R',\n",
              " 'S',\n",
              " 'T',\n",
              " 'U',\n",
              " 'V',\n",
              " 'W',\n",
              " 'X',\n",
              " 'Y',\n",
              " 'Z']"
            ]
          },
          "metadata": {},
          "execution_count": 13
        }
      ],
      "source": [
        "l1"
      ]
    },
    {
      "cell_type": "code",
      "execution_count": 14,
      "metadata": {
        "scrolled": true,
        "id": "5oDG-kiELGLC",
        "outputId": "8a7ebe9a-bc18-4779-a749-4656e0ad3c31",
        "colab": {
          "base_uri": "https://localhost:8080/"
        }
      },
      "outputs": [
        {
          "output_type": "stream",
          "name": "stdout",
          "text": [
            "__add__\n",
            "__class__\n",
            "__class_getitem__\n",
            "__contains__\n",
            "__delattr__\n",
            "__delitem__\n",
            "__dir__\n",
            "__doc__\n",
            "__eq__\n",
            "__format__\n",
            "__ge__\n",
            "__getattribute__\n",
            "__getitem__\n",
            "__gt__\n",
            "__hash__\n",
            "__iadd__\n",
            "__imul__\n",
            "__init__\n",
            "__init_subclass__\n",
            "__iter__\n",
            "__le__\n",
            "__len__\n",
            "__lt__\n",
            "__mul__\n",
            "__ne__\n",
            "__new__\n",
            "__reduce__\n",
            "__reduce_ex__\n",
            "__repr__\n",
            "__reversed__\n",
            "__rmul__\n",
            "__setattr__\n",
            "__setitem__\n",
            "__sizeof__\n",
            "__str__\n"
          ]
        }
      ],
      "source": [
        "for x in dir(l1)[:35]:\n",
        "    print(x)"
      ]
    },
    {
      "cell_type": "code",
      "execution_count": 15,
      "metadata": {
        "id": "LKz1qK-HLGLC",
        "outputId": "b868b772-9e82-4a9b-9159-7371f2c6fc60",
        "colab": {
          "base_uri": "https://localhost:8080/"
        }
      },
      "outputs": [
        {
          "output_type": "execute_result",
          "data": {
            "text/plain": [
              "['__subclasshook__',\n",
              " 'append',\n",
              " 'clear',\n",
              " 'copy',\n",
              " 'count',\n",
              " 'extend',\n",
              " 'index',\n",
              " 'insert',\n",
              " 'pop',\n",
              " 'remove',\n",
              " 'reverse',\n",
              " 'sort']"
            ]
          },
          "metadata": {},
          "execution_count": 15
        }
      ],
      "source": [
        "dir(l1)[35:]"
      ]
    },
    {
      "cell_type": "code",
      "execution_count": 17,
      "metadata": {
        "id": "-8X6y0DNLGLD",
        "outputId": "09db87cb-47af-4538-de62-85c75e440991",
        "colab": {
          "base_uri": "https://localhost:8080/"
        }
      },
      "outputs": [
        {
          "output_type": "execute_result",
          "data": {
            "text/plain": [
              "['Altaf', 'Malik']"
            ]
          },
          "metadata": {},
          "execution_count": 17
        }
      ],
      "source": [
        "l2=[\"Altaf\"]\n",
        "l2.append(\"Malik\")\n",
        "l2"
      ]
    },
    {
      "cell_type": "code",
      "execution_count": 18,
      "metadata": {
        "id": "OFnFey2NLGLD",
        "outputId": "243dc87a-f11a-4bdd-9449-88ac090bd5a1",
        "colab": {
          "base_uri": "https://localhost:8080/"
        }
      },
      "outputs": [
        {
          "output_type": "execute_result",
          "data": {
            "text/plain": [
              "2"
            ]
          },
          "metadata": {},
          "execution_count": 18
        }
      ],
      "source": [
        "a = list(\"pakistan zinda bad\")\n",
        "a.count('i')"
      ]
    },
    {
      "cell_type": "code",
      "execution_count": 19,
      "metadata": {
        "id": "2qK8rOXnLGLD",
        "outputId": "e6dbd9e1-8e16-447b-8a73-827cf0a6670f",
        "colab": {
          "base_uri": "https://localhost:8080/"
        }
      },
      "outputs": [
        {
          "output_type": "execute_result",
          "data": {
            "text/plain": [
              "['a', 'b', 'z', 'x']"
            ]
          },
          "metadata": {},
          "execution_count": 19
        }
      ],
      "source": [
        "a1 = ['a','b']\n",
        "a2 = ['z', 'x']\n",
        "\n",
        "a1 + a2 # inline"
      ]
    },
    {
      "cell_type": "code",
      "execution_count": 20,
      "metadata": {
        "id": "tmlf1Cl9LGLE"
      },
      "outputs": [],
      "source": [
        "a1.extend(a2) # in memory\n"
      ]
    },
    {
      "cell_type": "code",
      "execution_count": 21,
      "metadata": {
        "id": "eSkbABFzLGLE",
        "outputId": "ee5dbc79-736d-446f-a9df-ecac61edf9f6",
        "colab": {
          "base_uri": "https://localhost:8080/"
        }
      },
      "outputs": [
        {
          "output_type": "execute_result",
          "data": {
            "text/plain": [
              "['a', 'b', 'z', 'x']"
            ]
          },
          "metadata": {},
          "execution_count": 21
        }
      ],
      "source": [
        "a1"
      ]
    },
    {
      "cell_type": "code",
      "execution_count": 23,
      "metadata": {
        "id": "0YIa44azLGLE",
        "outputId": "7ee5e5a8-c190-495d-f479-372ca8daa713",
        "colab": {
          "base_uri": "https://localhost:8080/"
        }
      },
      "outputs": [
        {
          "output_type": "execute_result",
          "data": {
            "text/plain": [
              "['Tanzeel',\n",
              " 'qasim',\n",
              " 'p',\n",
              " 'a',\n",
              " 'k',\n",
              " 'i',\n",
              " 's',\n",
              " 't',\n",
              " 'a',\n",
              " 'n',\n",
              " ' ',\n",
              " 'z',\n",
              " 'i',\n",
              " 'n',\n",
              " 'd',\n",
              " 'a',\n",
              " ' ',\n",
              " 'b',\n",
              " 'a',\n",
              " 'd']"
            ]
          },
          "metadata": {},
          "execution_count": 23
        }
      ],
      "source": [
        "a.insert(0, 'Tanzeel')\n",
        "a"
      ]
    },
    {
      "cell_type": "code",
      "execution_count": 28,
      "metadata": {
        "id": "uuf11T93LGLF",
        "outputId": "6d68022a-b4fb-4990-c252-cd4f32e4c038",
        "colab": {
          "base_uri": "https://localhost:8080/"
        }
      },
      "outputs": [
        {
          "output_type": "execute_result",
          "data": {
            "text/plain": [
              "['tanzeel', 'hamza', 'abbas', 'ali']"
            ]
          },
          "metadata": {},
          "execution_count": 28
        }
      ],
      "source": [
        "l1 = ['altaf','tanzeel','hamza','abbas','ali']\n",
        "del l1[0]\n",
        "l1"
      ]
    },
    {
      "cell_type": "code",
      "execution_count": 29,
      "metadata": {
        "id": "wia8LBddLGLF",
        "outputId": "84321007-85b7-4fc0-e5f9-e53724301bb0",
        "colab": {
          "base_uri": "https://localhost:8080/"
        }
      },
      "outputs": [
        {
          "output_type": "stream",
          "name": "stdout",
          "text": [
            "['tanzeel', 'hamza', 'abbas', 'ali']\n",
            "['tanzeel', 'hamza', 'abbas']\n",
            "ali\n"
          ]
        }
      ],
      "source": [
        "print(l1)\n",
        "a = l1.pop() #index (remove from last) return\n",
        "print(l1)\n",
        "print(a)"
      ]
    },
    {
      "cell_type": "code",
      "execution_count": 30,
      "metadata": {
        "id": "J2hLm5p7LGLG",
        "outputId": "6193dda2-a937-4f01-b8c0-6b676a7d941c",
        "colab": {
          "base_uri": "https://localhost:8080/"
        }
      },
      "outputs": [
        {
          "output_type": "execute_result",
          "data": {
            "text/plain": [
              "['tanzeel', 'abbas']"
            ]
          },
          "metadata": {},
          "execution_count": 30
        }
      ],
      "source": [
        "l1.remove('hamza')\n",
        "l1"
      ]
    },
    {
      "cell_type": "code",
      "execution_count": 36,
      "metadata": {
        "id": "dicC0V82LGLG",
        "outputId": "3cf134af-876a-4aab-8786-9ac0d9a8f914",
        "colab": {
          "base_uri": "https://localhost:8080/"
        }
      },
      "outputs": [
        {
          "output_type": "execute_result",
          "data": {
            "text/plain": [
              "1"
            ]
          },
          "metadata": {},
          "execution_count": 36
        }
      ],
      "source": [
        "l1.index('abbas')"
      ]
    },
    {
      "cell_type": "code",
      "execution_count": 34,
      "metadata": {
        "id": "7dNS4fQ-LGLH",
        "outputId": "335a8e2c-5e10-483f-d894-6bb575c24224",
        "colab": {
          "base_uri": "https://localhost:8080/"
        }
      },
      "outputs": [
        {
          "output_type": "execute_result",
          "data": {
            "text/plain": [
              "[(0, 'tanzeel'), (1, 'abbas')]"
            ]
          },
          "metadata": {},
          "execution_count": 34
        }
      ],
      "source": [
        "list(enumerate(l1))"
      ]
    }
  ]
}