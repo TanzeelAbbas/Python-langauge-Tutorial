{
  "cells": [
    {
      "cell_type": "markdown",
      "metadata": {
        "id": "ywHhJ1Ba4ZPt"
      },
      "source": [
        "  \n",
        "# String"
      ]
    },
    {
      "cell_type": "code",
      "execution_count": 1,
      "metadata": {
        "colab": {
          "base_uri": "https://localhost:8080/"
        },
        "id": "UlXmPWow4ZPz",
        "outputId": "2307517b-74cf-48d5-be29-a07fc19db926"
      },
      "outputs": [
        {
          "output_type": "stream",
          "name": "stdout",
          "text": [
            "Tanzeel Abbas\n"
          ]
        }
      ],
      "source": [
        "print(\"Tanzeel Abbas\")"
      ]
    },
    {
      "cell_type": "code",
      "execution_count": 2,
      "metadata": {
        "colab": {
          "base_uri": "https://localhost:8080/"
        },
        "id": "wDZqOLzP4ZP3",
        "outputId": "86d6b1ad-86a7-4aeb-9826-56ff779e8106"
      },
      "outputs": [
        {
          "output_type": "stream",
          "name": "stdout",
          "text": [
            "Tanzeel\n",
            "<class 'str'>\n"
          ]
        }
      ],
      "source": [
        "a = \"Tanzeel\"\n",
        "print(a)\n",
        "print(type(a))"
      ]
    },
    {
      "cell_type": "markdown",
      "metadata": {
        "id": "vskxVFnt4ZP4"
      },
      "source": [
        "# String Class Method and Attributes"
      ]
    },
    {
      "cell_type": "code",
      "execution_count": 3,
      "metadata": {
        "colab": {
          "base_uri": "https://localhost:8080/"
        },
        "id": "sJQAe9i94ZP5",
        "outputId": "6a1acfd5-5a2c-4c9f-fb3d-1feb382204ad"
      },
      "outputs": [
        {
          "output_type": "stream",
          "name": "stdout",
          "text": [
            "paKistan ziNda bad\n"
          ]
        }
      ],
      "source": [
        "a = \"paKistan ziNda bad\"\n",
        "print(a)"
      ]
    },
    {
      "cell_type": "code",
      "execution_count": 4,
      "metadata": {
        "colab": {
          "base_uri": "https://localhost:8080/",
          "height": 35
        },
        "id": "okleZ8Gx4ZP5",
        "outputId": "dcda9bb5-5b5a-46e3-83d4-e0f408f107c6"
      },
      "outputs": [
        {
          "output_type": "execute_result",
          "data": {
            "text/plain": [
              "'Pakistan zinda bad'"
            ],
            "application/vnd.google.colaboratory.intrinsic+json": {
              "type": "string"
            }
          },
          "metadata": {},
          "execution_count": 4
        }
      ],
      "source": [
        "a.capitalize()"
      ]
    },
    {
      "cell_type": "code",
      "execution_count": 5,
      "metadata": {
        "colab": {
          "base_uri": "https://localhost:8080/",
          "height": 35
        },
        "id": "PaGNojTy4ZP6",
        "outputId": "ecb476cf-4588-493b-d192-fcff61efc3aa"
      },
      "outputs": [
        {
          "output_type": "execute_result",
          "data": {
            "text/plain": [
              "'PAKISTAN ZINDA BAD'"
            ],
            "application/vnd.google.colaboratory.intrinsic+json": {
              "type": "string"
            }
          },
          "metadata": {},
          "execution_count": 5
        }
      ],
      "source": [
        "a.upper()"
      ]
    },
    {
      "cell_type": "code",
      "execution_count": 6,
      "metadata": {
        "colab": {
          "base_uri": "https://localhost:8080/",
          "height": 35
        },
        "id": "p2QGtq374ZP7",
        "outputId": "9e09d50e-253b-4fdb-f4b5-343d0be8d478"
      },
      "outputs": [
        {
          "output_type": "execute_result",
          "data": {
            "text/plain": [
              "'Pakistan Zinda Bad'"
            ],
            "application/vnd.google.colaboratory.intrinsic+json": {
              "type": "string"
            }
          },
          "metadata": {},
          "execution_count": 6
        }
      ],
      "source": [
        "a.title()"
      ]
    },
    {
      "cell_type": "code",
      "execution_count": 7,
      "metadata": {
        "colab": {
          "base_uri": "https://localhost:8080/"
        },
        "id": "pHbq3Zen4ZP7",
        "outputId": "a8d9c3d1-690f-4b4d-9eda-a3d59a86fe37"
      },
      "outputs": [
        {
          "output_type": "stream",
          "name": "stdout",
          "text": [
            "paKistan ziNda bad\n"
          ]
        }
      ],
      "source": [
        "print(a)"
      ]
    },
    {
      "cell_type": "code",
      "execution_count": 8,
      "metadata": {
        "colab": {
          "base_uri": "https://localhost:8080/",
          "height": 35
        },
        "id": "5tRCFTOS4ZP8",
        "outputId": "a7005a2d-1ebb-4de5-b9ea-abff40cc7a4c"
      },
      "outputs": [
        {
          "output_type": "execute_result",
          "data": {
            "text/plain": [
              "'pakistan zinda bad'"
            ],
            "application/vnd.google.colaboratory.intrinsic+json": {
              "type": "string"
            }
          },
          "metadata": {},
          "execution_count": 8
        }
      ],
      "source": [
        "a.lower()"
      ]
    },
    {
      "cell_type": "code",
      "execution_count": 11,
      "metadata": {
        "colab": {
          "base_uri": "https://localhost:8080/"
        },
        "id": "-73uqr704ZP9",
        "outputId": "354edb80-3e3b-46d2-9cc6-63438ebc741a"
      },
      "outputs": [
        {
          "output_type": "stream",
          "name": "stdout",
          "text": [
            "Help on built-in function print in module builtins:\n",
            "\n",
            "print(...)\n",
            "    print(value, ..., sep=' ', end='\\n', file=sys.stdout, flush=False)\n",
            "    \n",
            "    Prints the values to a stream, or to sys.stdout by default.\n",
            "    Optional keyword arguments:\n",
            "    file:  a file-like object (stream); defaults to the current sys.stdout.\n",
            "    sep:   string inserted between values, default a space.\n",
            "    end:   string appended after the last value, default a newline.\n",
            "    flush: whether to forcibly flush the stream.\n",
            "\n"
          ]
        }
      ],
      "source": [
        "help(print)"
      ]
    },
    {
      "cell_type": "code",
      "execution_count": 10,
      "metadata": {
        "id": "P-B3Zk924ZP-"
      },
      "outputs": [],
      "source": [
        "print?"
      ]
    },
    {
      "cell_type": "code",
      "execution_count": 12,
      "metadata": {
        "id": "UZ5YO1xO4ZP-"
      },
      "outputs": [],
      "source": [
        "a.center??"
      ]
    },
    {
      "cell_type": "code",
      "execution_count": 14,
      "metadata": {
        "colab": {
          "base_uri": "https://localhost:8080/"
        },
        "id": "GigPEo3k4ZP-",
        "outputId": "2d52490a-68bc-42d1-d46b-e4bbc3fef1d9"
      },
      "outputs": [
        {
          "output_type": "stream",
          "name": "stdout",
          "text": [
            "\n",
            "Tanzeel Abbas\n",
            "City: Parachinar\n",
            "Country: Pakistan\n",
            "\n"
          ]
        }
      ],
      "source": [
        "abc = \"\"\"\n",
        "Tanzeel Abbas\n",
        "City: Parachinar\n",
        "Country: Pakistan\n",
        "\"\"\"\n",
        "\n",
        "print(abc)"
      ]
    },
    {
      "cell_type": "code",
      "execution_count": 15,
      "metadata": {
        "colab": {
          "base_uri": "https://localhost:8080/"
        },
        "id": "BlassjMj4ZP_",
        "outputId": "ebab8d09-c07e-4ffb-8e08-2ea9cd62e9ea"
      },
      "outputs": [
        {
          "output_type": "stream",
          "name": "stdout",
          "text": [
            "\n",
            "Tanzeel Abbas\n",
            "City: Parachinar\n",
            "Country: Pakistan\n",
            "\n"
          ]
        }
      ],
      "source": [
        "abc = '''\n",
        "Tanzeel Abbas\n",
        "City: Parachinar\n",
        "Country: Pakistan\n",
        "'''\n",
        "\n",
        "print(abc)"
      ]
    },
    {
      "cell_type": "code",
      "execution_count": 17,
      "metadata": {
        "colab": {
          "base_uri": "https://localhost:8080/"
        },
        "id": "c-6kHAPr4ZQA",
        "outputId": "cd1c6ff5-c8f7-4278-de3b-ec801af19981"
      },
      "outputs": [
        {
          "output_type": "stream",
          "name": "stdout",
          "text": [
            "\n",
            "*******AI Engineer********\n",
            "Tanzeel Abbas\n",
            "City: Parachinar\n",
            "Country: Pakistan\n",
            "\n"
          ]
        }
      ],
      "source": [
        "abc = \"\"\"\n",
        "*******AI Engineer********\n",
        "Name: Tanzeel Abbas\n",
        "City: Parachinar\n",
        "Country: Pakistan\n",
        "\"\"\"\n",
        "\n",
        "print(abc)"
      ]
    },
    {
      "cell_type": "code",
      "execution_count": 22,
      "metadata": {
        "colab": {
          "base_uri": "https://localhost:8080/"
        },
        "id": "IkCkpM0U4ZQA",
        "outputId": "53afef2f-bb6e-4c18-bcaf-464e9e763eb6"
      },
      "outputs": [
        {
          "output_type": "stream",
          "name": "stdout",
          "text": [
            "\n",
            "*******AI Engineer********\n",
            "Name: Tanzeel Abbas\n",
            "City: Zeenat Hussain\n",
            "Country: 114\n",
            "\n"
          ]
        }
      ],
      "source": [
        "name = \"Tanzeel Abbas\"\n",
        "father_name = \"Zeenat Hussain\"\n",
        "roll_no = 114\n",
        "\n",
        "detail = \"\"\"\n",
        "*******AI Engineer********\n",
        "Name: {}\n",
        "City: {}\n",
        "Country: {}\n",
        "\"\"\"\n",
        "\n",
        "print(detail.format(name, father_name, roll_no))\n",
        "\n"
      ]
    },
    {
      "cell_type": "code",
      "execution_count": 19,
      "metadata": {
        "colab": {
          "base_uri": "https://localhost:8080/"
        },
        "id": "Z3UpaaK24ZQB",
        "outputId": "5a75cae3-e02f-4c2a-8237-e3a3e88a7da7"
      },
      "outputs": [
        {
          "output_type": "stream",
          "name": "stdout",
          "text": [
            "Abbas\n",
            "None\n"
          ]
        }
      ],
      "source": [
        "a=print(\"Abbas\")\n",
        "print(a)"
      ]
    },
    {
      "cell_type": "code",
      "execution_count": 21,
      "metadata": {
        "colab": {
          "base_uri": "https://localhost:8080/",
          "height": 53
        },
        "id": "BREk0mu74ZQB",
        "outputId": "dfba11af-ec47-4174-eee8-fc6039f9622d"
      },
      "outputs": [
        {
          "name": "stdout",
          "output_type": "stream",
          "text": [
            "Enter Name Tanzeel Abbas\n"
          ]
        },
        {
          "output_type": "execute_result",
          "data": {
            "text/plain": [
              "' Tanzeel Abbas'"
            ],
            "application/vnd.google.colaboratory.intrinsic+json": {
              "type": "string"
            }
          },
          "metadata": {},
          "execution_count": 21
        }
      ],
      "source": [
        "a = input(\"Enter Name\")\n",
        "a"
      ]
    },
    {
      "cell_type": "code",
      "execution_count": 23,
      "metadata": {
        "colab": {
          "base_uri": "https://localhost:8080/"
        },
        "id": "fwky8dWB4ZQC",
        "outputId": "39a7efaa-cc21-452c-ce6b-9477ad35ca59"
      },
      "outputs": [
        {
          "output_type": "stream",
          "name": "stdout",
          "text": [
            "Enter your name Tanzeel Abbas\n",
            "Enter your Father's Name Zeenat Hussain\n",
            "Enter your Roll no 114\n",
            "\n",
            "*******AI Engineer********\n",
            "Name:  Tanzeel Abbas\n",
            "City:  Zeenat Hussain\n",
            "Country:  114\n",
            "\n"
          ]
        }
      ],
      "source": [
        "name = input(\"Enter your name\")\n",
        "father_name = input(\"Enter your Father's Name\")\n",
        "roll_no = input(\"Enter your Roll no\")\n",
        "\n",
        "detail = \"\"\"\n",
        "*******AI Engineer********\n",
        "Name: {}\n",
        "City: {}\n",
        "Country: {}\n",
        "\"\"\"\n",
        "\n",
        "print(detail.format(name, father_name, roll_no))\n"
      ]
    },
    {
      "cell_type": "code",
      "execution_count": 27,
      "metadata": {
        "colab": {
          "base_uri": "https://localhost:8080/",
          "height": 35
        },
        "id": "Qo5wP7zQ4ZQC",
        "outputId": "cf7d8c42-62e2-459b-c3d4-25920c6bafdd"
      },
      "outputs": [
        {
          "output_type": "execute_result",
          "data": {
            "text/plain": [
              "'pakistanzinda bad'"
            ],
            "application/vnd.google.colaboratory.intrinsic+json": {
              "type": "string"
            }
          },
          "metadata": {},
          "execution_count": 27
        }
      ],
      "source": [
        "a = \"pakistan\"\n",
        "b = \"zinda bad\"\n",
        "\n",
        "a + b #Concatinact"
      ]
    },
    {
      "cell_type": "code",
      "execution_count": 28,
      "metadata": {
        "colab": {
          "base_uri": "https://localhost:8080/"
        },
        "id": "8Ri1kVR14ZQD",
        "outputId": "e91b667d-c6b5-4236-f182-d82e7e607645"
      },
      "outputs": [
        {
          "output_type": "execute_result",
          "data": {
            "text/plain": [
              "12"
            ]
          },
          "metadata": {},
          "execution_count": 28
        }
      ],
      "source": [
        "a = 5\n",
        "b = 7\n",
        "a + b # Addition"
      ]
    },
    {
      "cell_type": "code",
      "execution_count": 29,
      "metadata": {
        "colab": {
          "base_uri": "https://localhost:8080/"
        },
        "id": "i-7wAHw64ZQE",
        "outputId": "e9febbf7-ea74-423e-ed6e-79a6fdee9377"
      },
      "outputs": [
        {
          "output_type": "execute_result",
          "data": {
            "text/plain": [
              "12"
            ]
          },
          "metadata": {},
          "execution_count": 29
        }
      ],
      "source": [
        "5 + 7"
      ]
    }
  ],
  "metadata": {
    "kernelspec": {
      "display_name": "Python 3",
      "language": "python",
      "name": "python3"
    },
    "language_info": {
      "codemirror_mode": {
        "name": "ipython",
        "version": 3
      },
      "file_extension": ".py",
      "mimetype": "text/x-python",
      "name": "python",
      "nbconvert_exporter": "python",
      "pygments_lexer": "ipython3",
      "version": "3.7.1"
    },
    "colab": {
      "provenance": []
    }
  },
  "nbformat": 4,
  "nbformat_minor": 0
}