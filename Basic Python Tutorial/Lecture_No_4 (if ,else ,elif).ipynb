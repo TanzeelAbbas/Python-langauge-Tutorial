{
  "nbformat": 4,
  "nbformat_minor": 0,
  "metadata": {
    "colab": {
      "provenance": []
    },
    "kernelspec": {
      "name": "python3",
      "display_name": "Python 3"
    },
    "language_info": {
      "name": "python"
    }
  },
  "cells": [
    {
      "cell_type": "markdown",
      "metadata": {
        "id": "rtZp9wgT4ZQf"
      },
      "source": [
        "# Control Flow"
      ]
    },
    {
      "cell_type": "markdown",
      "metadata": {
        "id": "97_Kq-HR4ZQg"
      },
      "source": [
        "# If, else, elif"
      ]
    },
    {
      "cell_type": "code",
      "execution_count": 8,
      "metadata": {
        "id": "wBLw23IL4ZQi",
        "outputId": "799a0715-e871-4ac1-eb7c-eb8df0549bfc",
        "colab": {
          "base_uri": "https://localhost:8080/"
        }
      },
      "outputs": [
        {
          "output_type": "stream",
          "name": "stdout",
          "text": [
            "Enter your Name Altaf\n",
            "Welcome\n"
          ]
        }
      ],
      "source": [
        "name = input(\"Enter your Name \")\n",
        "\n",
        "if name == 'altaf':\n",
        "    print(\"Welcome sir\")\n",
        "else:\n",
        "    print(\"Welcome\")"
      ]
    },
    {
      "cell_type": "code",
      "execution_count": 9,
      "metadata": {
        "id": "PZksi8N04ZQi",
        "outputId": "d8a4dbf3-f40c-4a69-8c51-b608fb0b2822",
        "colab": {
          "base_uri": "https://localhost:8080/"
        }
      },
      "outputs": [
        {
          "output_type": "stream",
          "name": "stdout",
          "text": [
            "Entery your Name altaf\n",
            "Welcome Sir\n"
          ]
        }
      ],
      "source": [
        "name = input(\"Entery your Name \")\n",
        "\n",
        "if name == 'altaf':\n",
        "    print(\"Welcome Sir\")\n",
        "else:\n",
        "    print(\"Welcome\")"
      ]
    },
    {
      "cell_type": "code",
      "execution_count": 10,
      "metadata": {
        "id": "mG2oI_c14ZQj",
        "outputId": "ad1bc22e-3e64-43b5-cb30-71a07bb50f2a",
        "colab": {
          "base_uri": "https://localhost:8080/"
        }
      },
      "outputs": [
        {
          "output_type": "stream",
          "name": "stdout",
          "text": [
            "Entery your Name AlTaf\n",
            "Welcome Sir\n"
          ]
        }
      ],
      "source": [
        "name = input(\"Entery your Name \")\n",
        "\n",
        "if name.lower() == 'altaf':\n",
        "    print(\"Welcome Sir\")\n",
        "else:\n",
        "    print(\"Welcome\")"
      ]
    },
    {
      "cell_type": "code",
      "execution_count": 11,
      "metadata": {
        "id": "qkkSThQH4ZQj",
        "outputId": "d2903359-98eb-4c7c-8727-d46bd58b5b75",
        "colab": {
          "base_uri": "https://localhost:8080/"
        }
      },
      "outputs": [
        {
          "output_type": "stream",
          "name": "stdout",
          "text": [
            "Fail\n"
          ]
        }
      ],
      "source": [
        "per = 77\n",
        "\n",
        "if per >= 0:\n",
        "    print(\"Fail\")\n",
        "elif per >= 33:\n",
        "    print(\"E\")\n",
        "elif per >= 40:\n",
        "    print(\"D\")\n",
        "elif per>=50:\n",
        "    print(\"C\")\n",
        "elif per>=60:\n",
        "    print(\"B\")\n",
        "elif per>=70:\n",
        "    print(\"A\")\n",
        "elif per>=80:\n",
        "    print(\"A+\")"
      ]
    },
    {
      "cell_type": "code",
      "execution_count": 13,
      "metadata": {
        "id": "Dhsbwkbt4ZQk",
        "outputId": "8788d67f-d74f-4268-883a-75d34a92caf4",
        "colab": {
          "base_uri": "https://localhost:8080/"
        }
      },
      "outputs": [
        {
          "output_type": "stream",
          "name": "stdout",
          "text": [
            "A\n"
          ]
        }
      ],
      "source": [
        "per = 77\n",
        "\n",
        "if per >= 0 and per <33:\n",
        "    print(\"Fail\")\n",
        "elif per >= 33 and per<40:\n",
        "    print(\"E\")\n",
        "elif per >= 40 and per<50:\n",
        "    print(\"D\")\n",
        "elif per>=50 and per<60:\n",
        "    print(\"C\")\n",
        "elif per>=60 and per<70:\n",
        "    print(\"B\")\n",
        "elif per>=70 and per<80:\n",
        "    print(\"A\")\n",
        "elif per>=80 and per<=100:\n",
        "    print(\"A+\")\n",
        "else:\n",
        "    print(\"Not valid\")"
      ]
    },
    {
      "cell_type": "code",
      "execution_count": 14,
      "metadata": {
        "id": "5wcvM_dQ4ZQk",
        "outputId": "89d9f900-85d7-4bd1-dd08-0ec77b8cf46f",
        "colab": {
          "base_uri": "https://localhost:8080/"
        }
      },
      "outputs": [
        {
          "output_type": "stream",
          "name": "stdout",
          "text": [
            "A\n"
          ]
        }
      ],
      "source": [
        "per = 77\n",
        "\n",
        "if per>=80:\n",
        "    print(\"A+\")\n",
        "elif per>=70:\n",
        "    print(\"A\")\n",
        "else:\n",
        "    print(\"Fail\")"
      ]
    }
  ]
}