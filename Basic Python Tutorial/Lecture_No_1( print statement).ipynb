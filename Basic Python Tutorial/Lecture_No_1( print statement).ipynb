{
  "cells": [
    {
      "cell_type": "code",
      "execution_count": 1,
      "metadata": {
        "colab": {
          "base_uri": "https://localhost:8080/"
        },
        "id": "oUCw6XoX2RJ_",
        "outputId": "d69eb0d0-7c0a-4dc6-dcd8-0ae781c460e4"
      },
      "outputs": [
        {
          "output_type": "stream",
          "name": "stdout",
          "text": [
            "Tanzeel Abbas\n"
          ]
        }
      ],
      "source": [
        "print(\"Tanzeel Abbas\")"
      ]
    },
    {
      "cell_type": "code",
      "execution_count": 2,
      "metadata": {
        "colab": {
          "base_uri": "https://localhost:8080/"
        },
        "id": "aMfmIsAA2RKI",
        "outputId": "33a75d78-6130-41af-ace9-52454893b2b2"
      },
      "outputs": [
        {
          "output_type": "stream",
          "name": "stdout",
          "text": [
            "Ali Abbas Tanzeel\n"
          ]
        }
      ],
      "source": [
        "print(\"Ali\",\"Abbas\",\"Tanzeel\")"
      ]
    },
    {
      "cell_type": "code",
      "execution_count": 5,
      "metadata": {
        "colab": {
          "base_uri": "https://localhost:8080/"
        },
        "id": "FEAYKoFW2RKJ",
        "outputId": "2894093c-6e66-4419-9099-939c07b4436b"
      },
      "outputs": [
        {
          "output_type": "stream",
          "name": "stdout",
          "text": [
            "Ali|Abbas|Tanzeel\n"
          ]
        }
      ],
      "source": [
        "print(\"Ali\",\"Abbas\",\"Tanzeel\", sep=\"|\")"
      ]
    },
    {
      "cell_type": "code",
      "execution_count": 6,
      "metadata": {
        "colab": {
          "base_uri": "https://localhost:8080/"
        },
        "id": "nUpge0Cc2RKJ",
        "outputId": "975eb82e-bbea-4642-edae-a1e72e72b182"
      },
      "outputs": [
        {
          "output_type": "stream",
          "name": "stdout",
          "text": [
            "Ali\n",
            "Abbas\n",
            "Tanzeel\n"
          ]
        }
      ],
      "source": [
        "print(\"Ali\",\"Abbas\",\"Tanzeel\", sep=\"\\n\")"
      ]
    },
    {
      "cell_type": "code",
      "execution_count": 8,
      "metadata": {
        "colab": {
          "base_uri": "https://localhost:8080/"
        },
        "id": "ClRZDpeM2RKK",
        "outputId": "35ebe863-9bdf-49aa-82a3-54151453c51f"
      },
      "outputs": [
        {
          "output_type": "stream",
          "name": "stdout",
          "text": [
            "AliAbbasTanzeel\n"
          ]
        }
      ],
      "source": [
        "print(\"Ali\",\"Abbas\",\"Tanzeel\", sep=\"\")"
      ]
    },
    {
      "cell_type": "code",
      "execution_count": 9,
      "metadata": {
        "colab": {
          "base_uri": "https://localhost:8080/"
        },
        "id": "oLDybhzF2RKL",
        "outputId": "eb36d9b1-2872-4486-b6a1-d08bd58f611a"
      },
      "outputs": [
        {
          "output_type": "stream",
          "name": "stdout",
          "text": [
            "Tanzeel\n",
            "Abbas\n",
            "Machine Learning\n",
            "Engineer\n"
          ]
        }
      ],
      "source": [
        "print(\"Tanzeel\")\n",
        "print(\"Abbas\")\n",
        "print(\"Machine Learning\")\n",
        "print(\"Engineer\")"
      ]
    },
    {
      "cell_type": "code",
      "execution_count": 10,
      "metadata": {
        "colab": {
          "base_uri": "https://localhost:8080/"
        },
        "id": "aIxtzH_j2RKM",
        "outputId": "981c5a10-fbf8-4c0d-fdb1-a39f0e3ea01c"
      },
      "outputs": [
        {
          "output_type": "stream",
          "name": "stdout",
          "text": [
            "Tanzeel Abbas Machine Learning Engineer "
          ]
        }
      ],
      "source": [
        "print(\"Tanzeel\", end=\" \")\n",
        "print(\"Abbas\", end=\" \")\n",
        "print(\"Machine Learning\", end=\" \")\n",
        "print(\"Engineer\", end=\" \")"
      ]
    },
    {
      "cell_type": "markdown",
      "source": [
        "# Lecture No 1 End"
      ],
      "metadata": {
        "id": "6cVIdWE14D9S"
      }
    }
  ],
  "metadata": {
    "kernelspec": {
      "display_name": "Python 3",
      "language": "python",
      "name": "python3"
    },
    "language_info": {
      "codemirror_mode": {
        "name": "ipython",
        "version": 3
      },
      "file_extension": ".py",
      "mimetype": "text/x-python",
      "name": "python",
      "nbconvert_exporter": "python",
      "pygments_lexer": "ipython3",
      "version": "3.7.1"
    },
    "colab": {
      "provenance": []
    }
  },
  "nbformat": 4,
  "nbformat_minor": 0
}